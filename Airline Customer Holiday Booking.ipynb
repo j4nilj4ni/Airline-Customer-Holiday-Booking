{
 "cells": [
  {
   "cell_type": "code",
   "execution_count": 1,
   "id": "3b98781a",
   "metadata": {},
   "outputs": [],
   "source": [
    "import pandas as pd\n",
    "import numpy as np\n",
    "import matplotlib.pyplot as plt\n",
    "import seaborn as sns\n",
    "import warnings\n",
    "warnings.filterwarnings('ignore')"
   ]
  },
  {
   "cell_type": "code",
   "execution_count": 2,
   "id": "1f5d354e",
   "metadata": {},
   "outputs": [],
   "source": [
    "airline = pd.read_csv(\"Passanger_booking_data.csv\")"
   ]
  },
  {
   "cell_type": "code",
   "execution_count": 3,
   "id": "6069944b",
   "metadata": {},
   "outputs": [
    {
     "data": {
      "text/plain": [
       "(50002, 14)"
      ]
     },
     "execution_count": 3,
     "metadata": {},
     "output_type": "execute_result"
    }
   ],
   "source": [
    "airline.shape"
   ]
  },
  {
   "cell_type": "code",
   "execution_count": 4,
   "id": "849c775b",
   "metadata": {},
   "outputs": [
    {
     "data": {
      "text/html": [
       "<div>\n",
       "<style scoped>\n",
       "    .dataframe tbody tr th:only-of-type {\n",
       "        vertical-align: middle;\n",
       "    }\n",
       "\n",
       "    .dataframe tbody tr th {\n",
       "        vertical-align: top;\n",
       "    }\n",
       "\n",
       "    .dataframe thead th {\n",
       "        text-align: right;\n",
       "    }\n",
       "</style>\n",
       "<table border=\"1\" class=\"dataframe\">\n",
       "  <thead>\n",
       "    <tr style=\"text-align: right;\">\n",
       "      <th></th>\n",
       "      <th>num_passengers</th>\n",
       "      <th>sales_channel</th>\n",
       "      <th>trip_type</th>\n",
       "      <th>purchase_lead</th>\n",
       "      <th>length_of_stay</th>\n",
       "      <th>flight_hour</th>\n",
       "      <th>flight_day</th>\n",
       "      <th>route</th>\n",
       "      <th>booking_origin</th>\n",
       "      <th>wants_extra_baggage</th>\n",
       "      <th>wants_preferred_seat</th>\n",
       "      <th>wants_in_flight_meals</th>\n",
       "      <th>flight_duration</th>\n",
       "      <th>booking_complete</th>\n",
       "    </tr>\n",
       "  </thead>\n",
       "  <tbody>\n",
       "    <tr>\n",
       "      <th>0</th>\n",
       "      <td>1</td>\n",
       "      <td>Internet</td>\n",
       "      <td>RoundTrip</td>\n",
       "      <td>21</td>\n",
       "      <td>12</td>\n",
       "      <td>6</td>\n",
       "      <td>Tue</td>\n",
       "      <td>AKLHGH</td>\n",
       "      <td>Australia</td>\n",
       "      <td>0</td>\n",
       "      <td>0</td>\n",
       "      <td>0</td>\n",
       "      <td>7.21</td>\n",
       "      <td>1</td>\n",
       "    </tr>\n",
       "    <tr>\n",
       "      <th>1</th>\n",
       "      <td>2</td>\n",
       "      <td>Internet</td>\n",
       "      <td>RoundTrip</td>\n",
       "      <td>262</td>\n",
       "      <td>19</td>\n",
       "      <td>7</td>\n",
       "      <td>Sat</td>\n",
       "      <td>AKLDEL</td>\n",
       "      <td>New Zealand</td>\n",
       "      <td>1</td>\n",
       "      <td>0</td>\n",
       "      <td>0</td>\n",
       "      <td>5.52</td>\n",
       "      <td>0</td>\n",
       "    </tr>\n",
       "    <tr>\n",
       "      <th>2</th>\n",
       "      <td>1</td>\n",
       "      <td>Internet</td>\n",
       "      <td>RoundTrip</td>\n",
       "      <td>112</td>\n",
       "      <td>20</td>\n",
       "      <td>3</td>\n",
       "      <td>Sat</td>\n",
       "      <td>AKLDEL</td>\n",
       "      <td>New Zealand</td>\n",
       "      <td>0</td>\n",
       "      <td>0</td>\n",
       "      <td>0</td>\n",
       "      <td>5.52</td>\n",
       "      <td>0</td>\n",
       "    </tr>\n",
       "    <tr>\n",
       "      <th>3</th>\n",
       "      <td>2</td>\n",
       "      <td>Internet</td>\n",
       "      <td>RoundTrip</td>\n",
       "      <td>243</td>\n",
       "      <td>22</td>\n",
       "      <td>17</td>\n",
       "      <td>Wed</td>\n",
       "      <td>AKLDEL</td>\n",
       "      <td>India</td>\n",
       "      <td>1</td>\n",
       "      <td>1</td>\n",
       "      <td>0</td>\n",
       "      <td>5.52</td>\n",
       "      <td>0</td>\n",
       "    </tr>\n",
       "    <tr>\n",
       "      <th>4</th>\n",
       "      <td>1</td>\n",
       "      <td>Internet</td>\n",
       "      <td>RoundTrip</td>\n",
       "      <td>96</td>\n",
       "      <td>31</td>\n",
       "      <td>4</td>\n",
       "      <td>Sat</td>\n",
       "      <td>AKLDEL</td>\n",
       "      <td>New Zealand</td>\n",
       "      <td>0</td>\n",
       "      <td>0</td>\n",
       "      <td>1</td>\n",
       "      <td>5.52</td>\n",
       "      <td>0</td>\n",
       "    </tr>\n",
       "  </tbody>\n",
       "</table>\n",
       "</div>"
      ],
      "text/plain": [
       "   num_passengers sales_channel  trip_type  purchase_lead  length_of_stay  \\\n",
       "0               1      Internet  RoundTrip             21              12   \n",
       "1               2      Internet  RoundTrip            262              19   \n",
       "2               1      Internet  RoundTrip            112              20   \n",
       "3               2      Internet  RoundTrip            243              22   \n",
       "4               1      Internet  RoundTrip             96              31   \n",
       "\n",
       "   flight_hour flight_day   route booking_origin  wants_extra_baggage  \\\n",
       "0            6        Tue  AKLHGH      Australia                    0   \n",
       "1            7        Sat  AKLDEL    New Zealand                    1   \n",
       "2            3        Sat  AKLDEL    New Zealand                    0   \n",
       "3           17        Wed  AKLDEL          India                    1   \n",
       "4            4        Sat  AKLDEL    New Zealand                    0   \n",
       "\n",
       "   wants_preferred_seat  wants_in_flight_meals  flight_duration  \\\n",
       "0                     0                      0             7.21   \n",
       "1                     0                      0             5.52   \n",
       "2                     0                      0             5.52   \n",
       "3                     1                      0             5.52   \n",
       "4                     0                      1             5.52   \n",
       "\n",
       "   booking_complete  \n",
       "0                 1  \n",
       "1                 0  \n",
       "2                 0  \n",
       "3                 0  \n",
       "4                 0  "
      ]
     },
     "execution_count": 4,
     "metadata": {},
     "output_type": "execute_result"
    }
   ],
   "source": [
    "airline.head()"
   ]
  },
  {
   "cell_type": "code",
   "execution_count": 5,
   "id": "e296c261",
   "metadata": {},
   "outputs": [
    {
     "name": "stdout",
     "output_type": "stream",
     "text": [
      "The number of duplicate values: 719\n"
     ]
    }
   ],
   "source": [
    "duplicates = airline.duplicated().sum()\n",
    "print(f'The number of duplicate values: {duplicates}')"
   ]
  },
  {
   "cell_type": "code",
   "execution_count": 6,
   "id": "34cdd8db",
   "metadata": {},
   "outputs": [
    {
     "data": {
      "text/plain": [
       "num_passengers           0\n",
       "sales_channel            0\n",
       "trip_type                0\n",
       "purchase_lead            0\n",
       "length_of_stay           0\n",
       "flight_hour              0\n",
       "flight_day               0\n",
       "route                    0\n",
       "booking_origin           0\n",
       "wants_extra_baggage      0\n",
       "wants_preferred_seat     0\n",
       "wants_in_flight_meals    0\n",
       "flight_duration          0\n",
       "booking_complete         0\n",
       "dtype: int64"
      ]
     },
     "execution_count": 6,
     "metadata": {},
     "output_type": "execute_result"
    }
   ],
   "source": [
    "airline.isna().sum()"
   ]
  },
  {
   "cell_type": "code",
   "execution_count": 7,
   "id": "a24317cb",
   "metadata": {},
   "outputs": [
    {
     "data": {
      "text/plain": [
       "['sales_channel', 'trip_type', 'flight_day', 'route', 'booking_origin']"
      ]
     },
     "execution_count": 7,
     "metadata": {},
     "output_type": "execute_result"
    }
   ],
   "source": [
    "cat_cols = airline.select_dtypes(include='object').columns.to_list()\n",
    "cat_cols"
   ]
  },
  {
   "cell_type": "code",
   "execution_count": 8,
   "id": "25c46cbb",
   "metadata": {},
   "outputs": [
    {
     "name": "stdout",
     "output_type": "stream",
     "text": [
      "********************************************************************************\n",
      "sales_channel: ['Internet' 'Mobile']\n",
      "********************************************************************************\n",
      "trip_type: ['RoundTrip' 'CircleTrip' 'OneWay']\n",
      "********************************************************************************\n",
      "flight_day: ['Tue' 'Sat' 'Wed' 'Thu' 'Mon' 'Sun' 'Fri']\n",
      "********************************************************************************\n",
      "route: ['AKLHGH' 'AKLDEL' 'AKLHND' 'AKLICN' 'AKLKIX' 'AKLKTM' 'AKLKUL' 'AKLMRU'\n",
      " 'AKLPEK' 'AKLPVG' 'AKLTPE' 'AORICN' 'AORKIX' 'AORKTM' 'AORMEL' 'BBIMEL'\n",
      " 'BBIOOL' 'BBIPER' 'BBISYD' 'BDOCTS' 'BDOCTU' 'BDOHGH' 'BDOICN' 'BDOIKA'\n",
      " 'BDOKIX' 'BDOMEL' 'BDOOOL' 'BDOPEK' 'BDOPER' 'BDOPUS' 'BDOPVG' 'BDOSYD'\n",
      " 'BDOTPE' 'BDOXIY' 'BKICKG' 'BKICTS' 'BKICTU' 'BKIHND' 'BKIICN' 'BKIKIX'\n",
      " 'BKIKTM' 'BKIMEL' 'BKIMRU' 'BKIOOL' 'BKIPEK' 'BKIPER' 'BKIPUS' 'BKIPVG'\n",
      " 'BKISYD' 'BKIXIY' 'BLRICN' 'BLRMEL' 'BLRPER' 'BLRSYD' 'BOMMEL' 'BOMOOL'\n",
      " 'BOMPER' 'BOMSYD' 'BTJJED' 'BTUICN' 'BTUPER' 'BTUSYD' 'BTUWUH' 'BWNCKG'\n",
      " 'BWNDEL' 'BWNHGH' 'BWNIKA' 'BWNKTM' 'BWNMEL' 'BWNOOL' 'BWNPER' 'BWNSYD'\n",
      " 'BWNTPE' 'CANDEL' 'CANIKA' 'CANMEL' 'CANMRU' 'CANOOL' 'CANPER' 'CANSYD'\n",
      " 'CCUMEL' 'CCUMRU' 'CCUOOL' 'CCUPER' 'CCUSYD' 'CCUTPE' 'CEBMEL' 'CEBOOL'\n",
      " 'CEBPER' 'CEBSYD' 'CGKCKG' 'CGKCTS' 'CGKCTU' 'CGKDEL' 'CGKHGH' 'CGKHND'\n",
      " 'CGKICN' 'CGKIKA' 'CGKJED' 'CGKKIX' 'CGKKTM' 'CGKMEL' 'CGKMRU' 'CGKOOL'\n",
      " 'CGKPEK' 'CGKPER' 'CGKPUS' 'CGKPVG' 'CGKSYD' 'CGKTPE' 'CGKWUH' 'CGKXIY'\n",
      " 'CKGCOK' 'CKGDPS' 'CKGJHB' 'CKGKCH' 'CKGLOP' 'CKGMAA' 'CKGMEL' 'CKGMYY'\n",
      " 'CKGOOL' 'CKGPEN' 'CKGPER' 'CKGPNH' 'CKGSBW' 'CKGSIN' 'CKGSUB' 'CKGSYD'\n",
      " 'CKGTGG' 'CKGTRZ' 'CKGTWU' 'CMBCTS' 'CMBCTU' 'CMBHGH' 'CMBHND' 'CMBICN'\n",
      " 'CMBKIX' 'CMBMEL' 'CMBMRU' 'CMBOOL' 'CMBPEK' 'CMBPER' 'CMBPVG' 'CMBSYD'\n",
      " 'CMBWUH' 'CNXHND' 'CNXICN' 'CNXKIX' 'CNXMEL' 'CNXOOL' 'CNXPEK' 'CNXPER'\n",
      " 'CNXPVG' 'CNXSYD' 'CNXTPE' 'COKCTU' 'COKHGH' 'COKICN' 'COKKIX' 'COKMEL'\n",
      " 'COKOOL' 'COKPER' 'COKPUS' 'COKSYD' 'COKTPE' 'COKWUH' 'CRKMEL' 'CRKOOL'\n",
      " 'CRKSYD' 'CSXPER' 'CTSDMK' 'CTSDPS' 'CTSHKT' 'CTSJHB' 'CTSKBR' 'CTSKCH'\n",
      " 'CTSKNO' 'CTSLGK' 'CTSMEL' 'CTSMYY' 'CTSOOL' 'CTSPEN' 'CTSPER' 'CTSSGN'\n",
      " 'CTSSIN' 'CTSSUB' 'CTSSYD' 'CTUDPS' 'CTUHKT' 'CTUIKA' 'CTUJHB' 'CTUKBV'\n",
      " 'CTUKCH' 'CTUKNO' 'CTUMAA' 'CTUMEL' 'CTUMRU' 'CTUMYY' 'CTUOOL' 'CTUPEN'\n",
      " 'CTUPER' 'CTUSBW' 'CTUSIN' 'CTUSUB' 'CTUSYD' 'CTUTGG' 'CTUTRZ' 'CTUTWU'\n",
      " 'CXRMEL' 'DACHGH' 'DACHND' 'DACICN' 'DACKIX' 'DACMEL' 'DACOOL' 'DACPER'\n",
      " 'DACSYD' 'DACTPE' 'DADMEL' 'DADOOL' 'DADSYD' 'DELDMK' 'DELDPS' 'DELHKG'\n",
      " 'DELHKT' 'DELHND' 'DELJHB' 'DELJOG' 'DELKBV' 'DELKCH' 'DELKIX' 'DELKNO'\n",
      " 'DELLGK' 'DELMEL' 'DELMFM' 'DELMNL' 'DELMRU' 'DELMYY' 'DELOOL' 'DELPEN'\n",
      " 'DELPER' 'DELPNH' 'DELSBW' 'DELSGN' 'DELSIN' 'DELSUB' 'DELSYD' 'DELSZX'\n",
      " 'DMKHGH' 'DMKHND' 'DMKICN' 'DMKIKA' 'DMKKIX' 'DMKKTM' 'DMKMEL' 'DMKMRU'\n",
      " 'DMKOOL' 'DMKPEK' 'DMKPER' 'DMKPUS' 'DMKPVG' 'DMKSYD' 'DMKTPE' 'DPSHGH'\n",
      " 'DPSHND' 'DPSICN' 'DPSIKA' 'DPSKIX' 'DPSKTM' 'DPSMEL' 'DPSMRU' 'DPSOOL'\n",
      " 'DPSPEK' 'DPSPUS' 'DPSPVG' 'DPSSYD' 'DPSTPE' 'DPSXIY' 'GOIKUL' 'GOIMEL'\n",
      " 'GOIOOL' 'GOIPER' 'GOISYD' 'HANKTM' 'HANMEL' 'HANOOL' 'HANPER' 'HANSYD'\n",
      " 'HDYHGH' 'HDYKTM' 'HDYMEL' 'HDYOOL' 'HDYPEK' 'HDYPER' 'HDYPVG' 'HDYSYD'\n",
      " 'HDYTPE' 'HGHHKT' 'HGHJHB' 'HGHJOG' 'HGHKBR' 'HGHKBV' 'HGHKCH' 'HGHKNO'\n",
      " 'HGHLGK' 'HGHLOP' 'HGHMAA' 'HGHMEL' 'HGHMYY' 'HGHOOL' 'HGHPEN' 'HGHPER'\n",
      " 'HGHSBW' 'HGHSUB' 'HGHSYD' 'HGHTRZ' 'HKGIKA' 'HKGKTM' 'HKGMEL' 'HKGMRU'\n",
      " 'HKGOOL' 'HKGPER' 'HKGSYD' 'HKTHND' 'HKTICN' 'HKTKIX' 'HKTKTM' 'HKTMEL'\n",
      " 'HKTMRU' 'HKTOOL' 'HKTPEK' 'HKTPER' 'HKTPUS' 'HKTPVG' 'HKTSYD' 'HKTTPE'\n",
      " 'HKTXIY' 'HNDIKA' 'HNDJOG' 'HNDKBR' 'HNDKBV' 'HNDKCH' 'HNDKNO' 'HNDKTM'\n",
      " 'HNDLGK' 'HNDLOP' 'HNDMAA' 'HNDMEL' 'HNDMLE' 'HNDOOL' 'HNDPEN' 'HNDPER'\n",
      " 'HNDPNH' 'HNDREP' 'HNDRGN' 'HNDSBW' 'HNDSGN' 'HNDSIN' 'HNDSUB' 'HNDSYD'\n",
      " 'HNDTRZ' 'HYDMEL' 'HYDOOL' 'HYDPER' 'HYDSYD' 'HYDWUH' 'ICNIKA' 'ICNJED'\n",
      " 'ICNJHB' 'ICNKBR' 'ICNKBV' 'ICNKCH' 'ICNKNO' 'ICNKTM' 'ICNLGK' 'ICNMAA'\n",
      " 'ICNMEL' 'ICNMLE' 'ICNMYY' 'ICNOOL' 'ICNPEN' 'ICNPER' 'ICNREP' 'ICNRGN'\n",
      " 'ICNSBW' 'ICNSDK' 'ICNSGN' 'ICNSIN' 'ICNSUB' 'ICNSYD' 'ICNTRZ' 'ICNVTZ'\n",
      " 'IKAKCH' 'IKAKIX' 'IKALOP' 'IKAMEL' 'IKAMFM' 'IKAMNL' 'IKAOOL' 'IKAPEK'\n",
      " 'IKAPEN' 'IKAPER' 'IKAPUS' 'IKAPVG' 'IKASGN' 'IKASIN' 'IKASUB' 'IKASYD'\n",
      " 'IKATPE' 'JEDJOG' 'JEDKNO' 'JEDMEL' 'JEDMNL' 'JEDPDG' 'JEDPEN' 'JEDSUB'\n",
      " 'JHBKIX' 'JHBKTM' 'JHBMEL' 'JHBMRU' 'JHBPEK' 'JHBPUS' 'JHBPVG' 'JHBSYD'\n",
      " 'JHBTPE' 'JHBWUH' 'JHBXIY' 'JOGKIX' 'JOGKTM' 'JOGMEL' 'JOGOOL' 'JOGPER'\n",
      " 'JOGPVG' 'JOGSYD' 'JOGTPE' 'KBRKIX' 'KBRKTM' 'KBRMEL' 'KBROOL' 'KBRPEK'\n",
      " 'KBRPER' 'KBRPVG' 'KBRSYD' 'KBRTPE' 'KBVKTM' 'KBVMEL' 'KBVOOL' 'KBVPEK'\n",
      " 'KBVPER' 'KBVPVG' 'KBVSYD' 'KCHKIX' 'KCHKTM' 'KCHMEL' 'KCHMRU' 'KCHOOL'\n",
      " 'KCHPEK' 'KCHPER' 'KCHPUS' 'KCHPVG' 'KCHSYD' 'KCHTPE' 'KCHXIY' 'KHHMEL'\n",
      " 'KHHOOL' 'KHHPER' 'KHHSYD' 'KIXKNO' 'KIXKTM' 'KIXLGK' 'KIXLOP' 'KIXMAA'\n",
      " 'KIXMEL' 'KIXMLE' 'KIXMYY' 'KIXOOL' 'KIXPEN' 'KIXPER' 'KIXPNH' 'KIXREP'\n",
      " 'KIXRGN' 'KIXSBW' 'KIXSGN' 'KIXSIN' 'KIXSUB' 'KIXSYD' 'KIXTGG' 'KIXTRZ'\n",
      " 'KLOMEL' 'KLOOOL' 'KNOKTM' 'KNOMEL' 'KNOOOL' 'KNOPEK' 'KNOPER' 'KNOPUS'\n",
      " 'KNOPVG' 'KNOSYD' 'KNOTPE' 'KNOXIY' 'KOSMEL' 'KOSOOL' 'KOSPEK' 'KOSSYD'\n",
      " 'KTMMEL' 'KTMMFM' 'KTMMYY' 'KTMPEN' 'KTMPER' 'KTMREP' 'KTMSGN' 'KTMSIN'\n",
      " 'KTMSUB' 'KTMSYD' 'KTMTGG' 'KTMTPE' 'KTMURT' 'KWLPER' 'LBUPER' 'LGKMEL'\n",
      " 'LGKOOL' 'LGKPER' 'LGKPUS' 'LGKPVG' 'LGKSYD' 'LGKTPE' 'LOPOOL' 'LOPPEK'\n",
      " 'LOPPVG' 'LOPSYD' 'LOPTPE' 'LOPXIY' 'LPQMEL' 'LPQOOL' 'LPQPER' 'LPQTPE'\n",
      " 'MAAMEL' 'MAAMRU' 'MAAOOL' 'MAAPER' 'MAAPVG' 'MAASYD' 'MAATPE' 'MAAWUH'\n",
      " 'MELMFM' 'MELMLE' 'MELMNL' 'MELMRU' 'MELMYY' 'MELPEK' 'MELPEN' 'MELPNH'\n",
      " 'MELPUS' 'MELPVG' 'MELREP' 'MELRGN' 'MELSBW' 'MELSGN' 'MELSIN' 'MELSUB'\n",
      " 'MELSWA' 'MELSZX' 'MELTGG' 'MELTPE' 'MELTRZ' 'MELTWU' 'MELURT' 'MELUTP'\n",
      " 'MELVTE' 'MELVTZ' 'MELWUH' 'MELXIY' 'MFMOOL' 'MFMPER' 'MFMSYD' 'MLEPEK'\n",
      " 'MLEPER' 'MLESYD' 'MNLMRU' 'MNLOOL' 'MNLPER' 'MNLSYD' 'MRUOOL' 'MRUPEK'\n",
      " 'MRUPEN' 'MRUPER' 'MRUPVG' 'MRUSGN' 'MRUSIN' 'MRUSUB' 'MRUSYD' 'MRUSZX'\n",
      " 'MYYOOL' 'MYYPER' 'MYYPUS' 'MYYSYD' 'MYYXIY' 'NRTSYD' 'OOLPEK' 'OOLPEN'\n",
      " 'OOLPNH' 'OOLPUS' 'OOLPVG' 'OOLREP' 'OOLRGN' 'OOLSBW' 'OOLSDK' 'OOLSGN'\n",
      " 'OOLSIN' 'OOLSUB' 'OOLSZX' 'OOLTGG' 'OOLTPE' 'OOLTRZ' 'OOLTWU' 'OOLURT'\n",
      " 'OOLUTP' 'OOLVTE' 'OOLWUH' 'OOLXIY' 'PEKPEN' 'PEKPER' 'PEKREP' 'PEKRGN'\n",
      " 'PEKSBW' 'PEKSIN' 'PEKSUB' 'PEKSYD' 'PEKTGG' 'PEKTRZ' 'PEKTWU' 'PENPER'\n",
      " 'PENPUS' 'PENPVG' 'PENSYD' 'PENTPE' 'PENWUH' 'PENXIY' 'PERPNH' 'PERPUS'\n",
      " 'PERPVG' 'PERREP' 'PERRGN' 'PERSBW' 'PERSDK' 'PERSGN' 'PERSIN' 'PERSWA'\n",
      " 'PERSZX' 'PERTGG' 'PERTPE' 'PERTRZ' 'PERTWU' 'PERUTP' 'PERVTE' 'PERVTZ'\n",
      " 'PERWUH' 'PERXIY' 'PNHSYD' 'PNHTPE' 'PNKTPE' 'PUSRGN' 'PUSSBW' 'PUSSGN'\n",
      " 'PUSSIN' 'PUSSUB' 'PUSSYD' 'PUSTRZ' 'PVGREP' 'PVGRGN' 'PVGSIN' 'PVGSUB'\n",
      " 'PVGSYD' 'PVGTGG' 'PVGTWU' 'PVGURT' 'REPSYD' 'REPTPE' 'RGNSYD' 'RGNTPE'\n",
      " 'SBWSYD' 'SBWTPE' 'SBWXIY' 'SDKSYD' 'SGNSYD' 'SGNXIY' 'SINSYD' 'SINTPE'\n",
      " 'SINWUH' 'SINXIY' 'SRGTPE' 'SUBSYD' 'SUBTPE' 'SUBXIY' 'SYDSZX' 'SYDTPE'\n",
      " 'SYDTRZ' 'SYDTWU' 'SYDVTE' 'SYDVTZ' 'SYDXIY' 'TGGTPE' 'TGGXIY' 'TPETRZ'\n",
      " 'TPEVTE' 'TRZWUH' 'TRZXIY' 'TWUXIY' 'HGHSGN' 'ICNTGG' 'JHBOOL' 'KBRXIY'\n",
      " 'KBVTPE' 'KIXTWU' 'LBUTPE' 'PVGSGN' 'SBWWUH' 'DELREP' 'DPSWUH' 'HKGJED'\n",
      " 'KBVKIX' 'KBVPUS' 'KIXLPQ' 'LGKPEK' 'LGKXIY' 'LOPPER' 'PEKSGN' 'PERSUB'\n",
      " 'TPETWU' 'BDOWUH' 'BKIDEL' 'CKGSGN' 'CTUKBR' 'CTULGK' 'CTUREP' 'DACMRU'\n",
      " 'DACPEK' 'DELRGN' 'HDYXIY' 'HGHTGG' 'HKTWUH' 'ICNVTE' 'KBRPUS' 'KCHWUH'\n",
      " 'KLOSYD' 'KNOWUH' 'MLETPE' 'SDKTPE' 'SUBWUH' 'TWUWUH' 'AORPUS' 'BTUCKG'\n",
      " 'BWNWUH' 'CKGKNO' 'CKGLGK' 'CNXDEL' 'CNXPUS' 'CTSJOG' 'CTSSBW' 'CTUDMK'\n",
      " 'CTULOP' 'DELKBR' 'DELURT' 'HDYKIX' 'HGHSIN' 'HGHTWU' 'HYDMRU' 'IKASZX'\n",
      " 'KBVWUH' 'KBVXIY' 'KIXLBU' 'LGKWUH' 'MELNRT' 'MLEOOL' 'MRUTPE' 'TPEURT'\n",
      " 'URTXIY' 'AORPER' 'CKGHKT' 'CKGMRU' 'CNXXIY' 'COKCTS' 'CSXMRU' 'CSXSYD'\n",
      " 'CTUMLE' 'CTUSGN' 'CTUSRG' 'CTUURT' 'DACPUS' 'HGHMRU' 'HKTIKA' 'HKTJED'\n",
      " 'ICNMRU' 'JEDMFM' 'KBRWUH' 'KIXMRU' 'KTMTWU' 'MLEPVG' 'MRUXIY']\n",
      "********************************************************************************\n",
      "booking_origin: ['Australia' 'New Zealand' 'India' 'United Kingdom' 'China' 'South Korea'\n",
      " 'Canada' 'Japan' 'Malaysia' 'Singapore' 'Switzerland' 'Germany'\n",
      " 'Indonesia' 'Czech Republic' 'Vietnam' 'Thailand' 'Spain' 'Romania'\n",
      " 'Ireland' 'Italy' 'Slovakia' 'United Arab Emirates' 'Tonga' 'Réunion'\n",
      " '(not set)' 'Saudi Arabia' 'Netherlands' 'Qatar' 'Hong Kong'\n",
      " 'Philippines' 'Sri Lanka' 'France' 'Croatia' 'United States' 'Laos'\n",
      " 'Hungary' 'Portugal' 'Cyprus' 'Cambodia' 'Poland' 'Belgium' 'Oman'\n",
      " 'Bangladesh' 'Kazakhstan' 'Brazil' 'Turkey' 'Kenya' 'Taiwan' 'Brunei'\n",
      " 'Chile' 'Bulgaria' 'Ukraine' 'Denmark' 'Colombia' 'Iran' 'Bahrain'\n",
      " 'Solomon Islands' 'Slovenia' 'Mauritius' 'Nepal' 'Russia' 'Kuwait'\n",
      " 'Mexico' 'Sweden' 'Austria' 'Lebanon' 'Jordan' 'Greece' 'Mongolia'\n",
      " 'Tanzania' 'Peru' 'Timor-Leste' 'Argentina' 'New Caledonia' 'Macau'\n",
      " 'Myanmar (Burma)' 'Norway' 'Panama' 'Bhutan' 'Norfolk Island' 'Finland'\n",
      " 'Nicaragua' 'Maldives' 'Egypt' 'Israel' 'Tunisia' 'South Africa'\n",
      " 'Papua New Guinea' 'Paraguay' 'Estonia' 'Seychelles' 'Afghanistan' 'Guam'\n",
      " 'Czechia' 'Malta' 'Vanuatu' 'Belarus' 'Pakistan' 'Iraq' 'Ghana'\n",
      " 'Gibraltar' 'Guatemala' 'Algeria' 'Svalbard & Jan Mayen']\n"
     ]
    }
   ],
   "source": [
    "for cols in cat_cols:\n",
    "    print('*'*80)\n",
    "    print(f\"{cols}: {airline[cols].unique()}\")"
   ]
  },
  {
   "cell_type": "code",
   "execution_count": 9,
   "id": "d82ff747",
   "metadata": {},
   "outputs": [
    {
     "data": {
      "text/plain": [
       "104"
      ]
     },
     "execution_count": 9,
     "metadata": {},
     "output_type": "execute_result"
    }
   ],
   "source": [
    "airline.booking_origin.nunique()"
   ]
  },
  {
   "cell_type": "code",
   "execution_count": 10,
   "id": "74d94eaf",
   "metadata": {},
   "outputs": [
    {
     "data": {
      "text/plain": [
       "799"
      ]
     },
     "execution_count": 10,
     "metadata": {},
     "output_type": "execute_result"
    }
   ],
   "source": [
    "airline.route.nunique()"
   ]
  },
  {
   "cell_type": "code",
   "execution_count": 11,
   "id": "defb2b00",
   "metadata": {},
   "outputs": [
    {
     "data": {
      "text/plain": [
       "719"
      ]
     },
     "execution_count": 11,
     "metadata": {},
     "output_type": "execute_result"
    }
   ],
   "source": [
    "duplicates"
   ]
  },
  {
   "cell_type": "code",
   "execution_count": 12,
   "id": "1a5bcbf9",
   "metadata": {},
   "outputs": [],
   "source": [
    "airline.drop_duplicates(inplace=True)"
   ]
  },
  {
   "cell_type": "code",
   "execution_count": 13,
   "id": "d2c4c440",
   "metadata": {},
   "outputs": [],
   "source": [
    "airline.reset_index(drop=True,inplace=True)"
   ]
  },
  {
   "cell_type": "code",
   "execution_count": 14,
   "id": "33677c1a",
   "metadata": {},
   "outputs": [
    {
     "data": {
      "text/html": [
       "<div>\n",
       "<style scoped>\n",
       "    .dataframe tbody tr th:only-of-type {\n",
       "        vertical-align: middle;\n",
       "    }\n",
       "\n",
       "    .dataframe tbody tr th {\n",
       "        vertical-align: top;\n",
       "    }\n",
       "\n",
       "    .dataframe thead th {\n",
       "        text-align: right;\n",
       "    }\n",
       "</style>\n",
       "<table border=\"1\" class=\"dataframe\">\n",
       "  <thead>\n",
       "    <tr style=\"text-align: right;\">\n",
       "      <th></th>\n",
       "      <th>num_passengers</th>\n",
       "      <th>sales_channel</th>\n",
       "      <th>trip_type</th>\n",
       "      <th>purchase_lead</th>\n",
       "      <th>length_of_stay</th>\n",
       "      <th>flight_hour</th>\n",
       "      <th>flight_day</th>\n",
       "      <th>route</th>\n",
       "      <th>booking_origin</th>\n",
       "      <th>wants_extra_baggage</th>\n",
       "      <th>wants_preferred_seat</th>\n",
       "      <th>wants_in_flight_meals</th>\n",
       "      <th>flight_duration</th>\n",
       "      <th>booking_complete</th>\n",
       "    </tr>\n",
       "  </thead>\n",
       "  <tbody>\n",
       "    <tr>\n",
       "      <th>0</th>\n",
       "      <td>1</td>\n",
       "      <td>Internet</td>\n",
       "      <td>RoundTrip</td>\n",
       "      <td>21</td>\n",
       "      <td>12</td>\n",
       "      <td>6</td>\n",
       "      <td>Tue</td>\n",
       "      <td>AKLHGH</td>\n",
       "      <td>Australia</td>\n",
       "      <td>0</td>\n",
       "      <td>0</td>\n",
       "      <td>0</td>\n",
       "      <td>7.21</td>\n",
       "      <td>1</td>\n",
       "    </tr>\n",
       "    <tr>\n",
       "      <th>1</th>\n",
       "      <td>2</td>\n",
       "      <td>Internet</td>\n",
       "      <td>RoundTrip</td>\n",
       "      <td>262</td>\n",
       "      <td>19</td>\n",
       "      <td>7</td>\n",
       "      <td>Sat</td>\n",
       "      <td>AKLDEL</td>\n",
       "      <td>New Zealand</td>\n",
       "      <td>1</td>\n",
       "      <td>0</td>\n",
       "      <td>0</td>\n",
       "      <td>5.52</td>\n",
       "      <td>0</td>\n",
       "    </tr>\n",
       "    <tr>\n",
       "      <th>2</th>\n",
       "      <td>1</td>\n",
       "      <td>Internet</td>\n",
       "      <td>RoundTrip</td>\n",
       "      <td>112</td>\n",
       "      <td>20</td>\n",
       "      <td>3</td>\n",
       "      <td>Sat</td>\n",
       "      <td>AKLDEL</td>\n",
       "      <td>New Zealand</td>\n",
       "      <td>0</td>\n",
       "      <td>0</td>\n",
       "      <td>0</td>\n",
       "      <td>5.52</td>\n",
       "      <td>0</td>\n",
       "    </tr>\n",
       "    <tr>\n",
       "      <th>3</th>\n",
       "      <td>2</td>\n",
       "      <td>Internet</td>\n",
       "      <td>RoundTrip</td>\n",
       "      <td>243</td>\n",
       "      <td>22</td>\n",
       "      <td>17</td>\n",
       "      <td>Wed</td>\n",
       "      <td>AKLDEL</td>\n",
       "      <td>India</td>\n",
       "      <td>1</td>\n",
       "      <td>1</td>\n",
       "      <td>0</td>\n",
       "      <td>5.52</td>\n",
       "      <td>0</td>\n",
       "    </tr>\n",
       "    <tr>\n",
       "      <th>4</th>\n",
       "      <td>1</td>\n",
       "      <td>Internet</td>\n",
       "      <td>RoundTrip</td>\n",
       "      <td>96</td>\n",
       "      <td>31</td>\n",
       "      <td>4</td>\n",
       "      <td>Sat</td>\n",
       "      <td>AKLDEL</td>\n",
       "      <td>New Zealand</td>\n",
       "      <td>0</td>\n",
       "      <td>0</td>\n",
       "      <td>1</td>\n",
       "      <td>5.52</td>\n",
       "      <td>0</td>\n",
       "    </tr>\n",
       "  </tbody>\n",
       "</table>\n",
       "</div>"
      ],
      "text/plain": [
       "   num_passengers sales_channel  trip_type  purchase_lead  length_of_stay  \\\n",
       "0               1      Internet  RoundTrip             21              12   \n",
       "1               2      Internet  RoundTrip            262              19   \n",
       "2               1      Internet  RoundTrip            112              20   \n",
       "3               2      Internet  RoundTrip            243              22   \n",
       "4               1      Internet  RoundTrip             96              31   \n",
       "\n",
       "   flight_hour flight_day   route booking_origin  wants_extra_baggage  \\\n",
       "0            6        Tue  AKLHGH      Australia                    0   \n",
       "1            7        Sat  AKLDEL    New Zealand                    1   \n",
       "2            3        Sat  AKLDEL    New Zealand                    0   \n",
       "3           17        Wed  AKLDEL          India                    1   \n",
       "4            4        Sat  AKLDEL    New Zealand                    0   \n",
       "\n",
       "   wants_preferred_seat  wants_in_flight_meals  flight_duration  \\\n",
       "0                     0                      0             7.21   \n",
       "1                     0                      0             5.52   \n",
       "2                     0                      0             5.52   \n",
       "3                     1                      0             5.52   \n",
       "4                     0                      1             5.52   \n",
       "\n",
       "   booking_complete  \n",
       "0                 1  \n",
       "1                 0  \n",
       "2                 0  \n",
       "3                 0  \n",
       "4                 0  "
      ]
     },
     "execution_count": 14,
     "metadata": {},
     "output_type": "execute_result"
    }
   ],
   "source": [
    "airline.head()"
   ]
  },
  {
   "cell_type": "code",
   "execution_count": 15,
   "id": "bf3fe342",
   "metadata": {},
   "outputs": [
    {
     "name": "stdout",
     "output_type": "stream",
     "text": [
      "<class 'pandas.core.frame.DataFrame'>\n",
      "RangeIndex: 49283 entries, 0 to 49282\n",
      "Data columns (total 14 columns):\n",
      " #   Column                 Non-Null Count  Dtype  \n",
      "---  ------                 --------------  -----  \n",
      " 0   num_passengers         49283 non-null  int64  \n",
      " 1   sales_channel          49283 non-null  object \n",
      " 2   trip_type              49283 non-null  object \n",
      " 3   purchase_lead          49283 non-null  int64  \n",
      " 4   length_of_stay         49283 non-null  int64  \n",
      " 5   flight_hour            49283 non-null  int64  \n",
      " 6   flight_day             49283 non-null  object \n",
      " 7   route                  49283 non-null  object \n",
      " 8   booking_origin         49283 non-null  object \n",
      " 9   wants_extra_baggage    49283 non-null  int64  \n",
      " 10  wants_preferred_seat   49283 non-null  int64  \n",
      " 11  wants_in_flight_meals  49283 non-null  int64  \n",
      " 12  flight_duration        49283 non-null  float64\n",
      " 13  booking_complete       49283 non-null  int64  \n",
      "dtypes: float64(1), int64(8), object(5)\n",
      "memory usage: 5.3+ MB\n"
     ]
    }
   ],
   "source": [
    "airline.info()"
   ]
  },
  {
   "cell_type": "markdown",
   "id": "57d21455",
   "metadata": {},
   "source": [
    "# EDA"
   ]
  },
  {
   "cell_type": "code",
   "execution_count": 16,
   "id": "0b102d1b",
   "metadata": {},
   "outputs": [],
   "source": [
    "pie_cols = ['sales_channel','wants_preferred_seat','wants_extra_baggage','wants_in_flight_meals',\n",
    "           'booking_complete']"
   ]
  },
  {
   "cell_type": "code",
   "execution_count": 17,
   "id": "f0e15ba3",
   "metadata": {},
   "outputs": [
    {
     "data": {
      "image/png": "[encoded data removed]",
      "text/plain": [
       "<Figure size 864x720 with 5 Axes>"
      ]
     },
     "metadata": {},
     "output_type": "display_data"
    }
   ],
   "source": [
    "import matplotlib.pyplot as plt\n",
    "\n",
    "fig, axis = plt.subplots(nrows=3, ncols=2, figsize=(12, 10))\n",
    "axis = axis.flatten()\n",
    "\n",
    "for i, var in enumerate(pie_cols):\n",
    "    plt.sca(axis[i])  # Set the current axis to the one in the loop\n",
    "    airline[var].value_counts().plot(kind = 'pie', autopct = '%.2f%%', \n",
    "                                    startangle=60 ,explode = [0, 0.05], colors=['teal','brown'])\n",
    "    plt.xlabel(var)  \n",
    "  \n",
    "\n",
    "fig.delaxes(axis[-1])\n",
    "fig.tight_layout()\n",
    "plt.show()\n"
   ]
  },
  {
   "cell_type": "code",
   "execution_count": 18,
   "id": "850a6736",
   "metadata": {},
   "outputs": [
    {
     "data": {
      "text/html": [
       "<div>\n",
       "<style scoped>\n",
       "    .dataframe tbody tr th:only-of-type {\n",
       "        vertical-align: middle;\n",
       "    }\n",
       "\n",
       "    .dataframe tbody tr th {\n",
       "        vertical-align: top;\n",
       "    }\n",
       "\n",
       "    .dataframe thead th {\n",
       "        text-align: right;\n",
       "    }\n",
       "</style>\n",
       "<table border=\"1\" class=\"dataframe\">\n",
       "  <thead>\n",
       "    <tr style=\"text-align: right;\">\n",
       "      <th></th>\n",
       "      <th>num_passengers</th>\n",
       "      <th>sales_channel</th>\n",
       "      <th>trip_type</th>\n",
       "      <th>purchase_lead</th>\n",
       "      <th>length_of_stay</th>\n",
       "      <th>flight_hour</th>\n",
       "      <th>flight_day</th>\n",
       "      <th>route</th>\n",
       "      <th>booking_origin</th>\n",
       "      <th>wants_extra_baggage</th>\n",
       "      <th>wants_preferred_seat</th>\n",
       "      <th>wants_in_flight_meals</th>\n",
       "      <th>flight_duration</th>\n",
       "      <th>booking_complete</th>\n",
       "    </tr>\n",
       "  </thead>\n",
       "  <tbody>\n",
       "    <tr>\n",
       "      <th>0</th>\n",
       "      <td>1</td>\n",
       "      <td>Internet</td>\n",
       "      <td>RoundTrip</td>\n",
       "      <td>21</td>\n",
       "      <td>12</td>\n",
       "      <td>6</td>\n",
       "      <td>Tue</td>\n",
       "      <td>AKLHGH</td>\n",
       "      <td>Australia</td>\n",
       "      <td>0</td>\n",
       "      <td>0</td>\n",
       "      <td>0</td>\n",
       "      <td>7.21</td>\n",
       "      <td>1</td>\n",
       "    </tr>\n",
       "    <tr>\n",
       "      <th>1</th>\n",
       "      <td>2</td>\n",
       "      <td>Internet</td>\n",
       "      <td>RoundTrip</td>\n",
       "      <td>262</td>\n",
       "      <td>19</td>\n",
       "      <td>7</td>\n",
       "      <td>Sat</td>\n",
       "      <td>AKLDEL</td>\n",
       "      <td>New Zealand</td>\n",
       "      <td>1</td>\n",
       "      <td>0</td>\n",
       "      <td>0</td>\n",
       "      <td>5.52</td>\n",
       "      <td>0</td>\n",
       "    </tr>\n",
       "    <tr>\n",
       "      <th>2</th>\n",
       "      <td>1</td>\n",
       "      <td>Internet</td>\n",
       "      <td>RoundTrip</td>\n",
       "      <td>112</td>\n",
       "      <td>20</td>\n",
       "      <td>3</td>\n",
       "      <td>Sat</td>\n",
       "      <td>AKLDEL</td>\n",
       "      <td>New Zealand</td>\n",
       "      <td>0</td>\n",
       "      <td>0</td>\n",
       "      <td>0</td>\n",
       "      <td>5.52</td>\n",
       "      <td>0</td>\n",
       "    </tr>\n",
       "    <tr>\n",
       "      <th>3</th>\n",
       "      <td>2</td>\n",
       "      <td>Internet</td>\n",
       "      <td>RoundTrip</td>\n",
       "      <td>243</td>\n",
       "      <td>22</td>\n",
       "      <td>17</td>\n",
       "      <td>Wed</td>\n",
       "      <td>AKLDEL</td>\n",
       "      <td>India</td>\n",
       "      <td>1</td>\n",
       "      <td>1</td>\n",
       "      <td>0</td>\n",
       "      <td>5.52</td>\n",
       "      <td>0</td>\n",
       "    </tr>\n",
       "    <tr>\n",
       "      <th>4</th>\n",
       "      <td>1</td>\n",
       "      <td>Internet</td>\n",
       "      <td>RoundTrip</td>\n",
       "      <td>96</td>\n",
       "      <td>31</td>\n",
       "      <td>4</td>\n",
       "      <td>Sat</td>\n",
       "      <td>AKLDEL</td>\n",
       "      <td>New Zealand</td>\n",
       "      <td>0</td>\n",
       "      <td>0</td>\n",
       "      <td>1</td>\n",
       "      <td>5.52</td>\n",
       "      <td>0</td>\n",
       "    </tr>\n",
       "  </tbody>\n",
       "</table>\n",
       "</div>"
      ],
      "text/plain": [
       "   num_passengers sales_channel  trip_type  purchase_lead  length_of_stay  \\\n",
       "0               1      Internet  RoundTrip             21              12   \n",
       "1               2      Internet  RoundTrip            262              19   \n",
       "2               1      Internet  RoundTrip            112              20   \n",
       "3               2      Internet  RoundTrip            243              22   \n",
       "4               1      Internet  RoundTrip             96              31   \n",
       "\n",
       "   flight_hour flight_day   route booking_origin  wants_extra_baggage  \\\n",
       "0            6        Tue  AKLHGH      Australia                    0   \n",
       "1            7        Sat  AKLDEL    New Zealand                    1   \n",
       "2            3        Sat  AKLDEL    New Zealand                    0   \n",
       "3           17        Wed  AKLDEL          India                    1   \n",
       "4            4        Sat  AKLDEL    New Zealand                    0   \n",
       "\n",
       "   wants_preferred_seat  wants_in_flight_meals  flight_duration  \\\n",
       "0                     0                      0             7.21   \n",
       "1                     0                      0             5.52   \n",
       "2                     0                      0             5.52   \n",
       "3                     1                      0             5.52   \n",
       "4                     0                      1             5.52   \n",
       "\n",
       "   booking_complete  \n",
       "0                 1  \n",
       "1                 0  \n",
       "2                 0  \n",
       "3                 0  \n",
       "4                 0  "
      ]
     },
     "execution_count": 18,
     "metadata": {},
     "output_type": "execute_result"
    }
   ],
   "source": [
    "airline.head()"
   ]
  },
  {
   "cell_type": "code",
   "execution_count": 19,
   "id": "c21fa221",
   "metadata": {},
   "outputs": [
    {
     "data": {
      "image/png": "[encoded data removed]",
      "text/plain": [
       "<Figure size 1008x288 with 2 Axes>"
      ]
     },
     "metadata": {
      "needs_background": "light"
     },
     "output_type": "display_data"
    }
   ],
   "source": [
    "plt.figure(figsize=(14,4))\n",
    "plt.subplot(121)\n",
    "sns.countplot(x='trip_type',data=airline,palette='viridis')\n",
    "\n",
    "plt.subplot(122)\n",
    "sns.countplot(x='flight_day',data=airline,palette='viridis');"
   ]
  },
  {
   "cell_type": "code",
   "execution_count": 20,
   "id": "d99113b7",
   "metadata": {},
   "outputs": [
    {
     "data": {
      "text/plain": [
       "['num_passengers',\n",
       " 'purchase_lead',\n",
       " 'length_of_stay',\n",
       " 'flight_hour',\n",
       " 'wants_extra_baggage',\n",
       " 'wants_preferred_seat',\n",
       " 'wants_in_flight_meals',\n",
       " 'flight_duration',\n",
       " 'booking_complete']"
      ]
     },
     "execution_count": 20,
     "metadata": {},
     "output_type": "execute_result"
    }
   ],
   "source": [
    "num_cols = airline.select_dtypes(include=np.number).columns.to_list()\n",
    "num_cols"
   ]
  },
  {
   "cell_type": "code",
   "execution_count": 21,
   "id": "42689702",
   "metadata": {},
   "outputs": [
    {
     "data": {
      "image/png": "[encoded data removed]",
      "text/plain": [
       "<Figure size 864x576 with 9 Axes>"
      ]
     },
     "metadata": {
      "needs_background": "light"
     },
     "output_type": "display_data"
    }
   ],
   "source": [
    "fig,axis = plt.subplots(nrows=3,ncols=3,figsize=(12,8))\n",
    "axis = axis.flatten()\n",
    "for i,var in enumerate(num_cols):\n",
    "    sns.distplot(airline[var],ax=axis[i])\n",
    "    axis[i].set_xlabel(var)\n",
    "fig.tight_layout()  \n",
    "plt.show()"
   ]
  },
  {
   "cell_type": "code",
   "execution_count": 22,
   "id": "b1db28a6",
   "metadata": {},
   "outputs": [
    {
     "data": {
      "image/png": "[encoded data removed]",
      "text/plain": [
       "<Figure size 864x576 with 9 Axes>"
      ]
     },
     "metadata": {
      "needs_background": "light"
     },
     "output_type": "display_data"
    }
   ],
   "source": [
    "fig,axis = plt.subplots(nrows=3,ncols=3,figsize=(12,8))\n",
    "axis = axis.flatten()\n",
    "for i,var in enumerate(num_cols):\n",
    "    sns.boxplot(airline[var],ax=axis[i],orient='h')\n",
    "    axis[i].set_xlabel(var)\n",
    "fig.tight_layout()  \n",
    "plt.show()"
   ]
  },
  {
   "cell_type": "code",
   "execution_count": 23,
   "id": "a92b0018",
   "metadata": {},
   "outputs": [
    {
     "data": {
      "text/html": [
       "<div>\n",
       "<style scoped>\n",
       "    .dataframe tbody tr th:only-of-type {\n",
       "        vertical-align: middle;\n",
       "    }\n",
       "\n",
       "    .dataframe tbody tr th {\n",
       "        vertical-align: top;\n",
       "    }\n",
       "\n",
       "    .dataframe thead th {\n",
       "        text-align: right;\n",
       "    }\n",
       "</style>\n",
       "<table border=\"1\" class=\"dataframe\">\n",
       "  <thead>\n",
       "    <tr style=\"text-align: right;\">\n",
       "      <th></th>\n",
       "      <th>num_passengers</th>\n",
       "      <th>sales_channel</th>\n",
       "      <th>trip_type</th>\n",
       "      <th>purchase_lead</th>\n",
       "      <th>length_of_stay</th>\n",
       "      <th>flight_hour</th>\n",
       "      <th>flight_day</th>\n",
       "      <th>route</th>\n",
       "      <th>booking_origin</th>\n",
       "      <th>wants_extra_baggage</th>\n",
       "      <th>wants_preferred_seat</th>\n",
       "      <th>wants_in_flight_meals</th>\n",
       "      <th>flight_duration</th>\n",
       "      <th>booking_complete</th>\n",
       "    </tr>\n",
       "  </thead>\n",
       "  <tbody>\n",
       "    <tr>\n",
       "      <th>0</th>\n",
       "      <td>1</td>\n",
       "      <td>Internet</td>\n",
       "      <td>RoundTrip</td>\n",
       "      <td>21</td>\n",
       "      <td>12</td>\n",
       "      <td>6</td>\n",
       "      <td>Tue</td>\n",
       "      <td>AKLHGH</td>\n",
       "      <td>Australia</td>\n",
       "      <td>0</td>\n",
       "      <td>0</td>\n",
       "      <td>0</td>\n",
       "      <td>7.21</td>\n",
       "      <td>1</td>\n",
       "    </tr>\n",
       "    <tr>\n",
       "      <th>1</th>\n",
       "      <td>2</td>\n",
       "      <td>Internet</td>\n",
       "      <td>RoundTrip</td>\n",
       "      <td>262</td>\n",
       "      <td>19</td>\n",
       "      <td>7</td>\n",
       "      <td>Sat</td>\n",
       "      <td>AKLDEL</td>\n",
       "      <td>New Zealand</td>\n",
       "      <td>1</td>\n",
       "      <td>0</td>\n",
       "      <td>0</td>\n",
       "      <td>5.52</td>\n",
       "      <td>0</td>\n",
       "    </tr>\n",
       "    <tr>\n",
       "      <th>2</th>\n",
       "      <td>1</td>\n",
       "      <td>Internet</td>\n",
       "      <td>RoundTrip</td>\n",
       "      <td>112</td>\n",
       "      <td>20</td>\n",
       "      <td>3</td>\n",
       "      <td>Sat</td>\n",
       "      <td>AKLDEL</td>\n",
       "      <td>New Zealand</td>\n",
       "      <td>0</td>\n",
       "      <td>0</td>\n",
       "      <td>0</td>\n",
       "      <td>5.52</td>\n",
       "      <td>0</td>\n",
       "    </tr>\n",
       "    <tr>\n",
       "      <th>3</th>\n",
       "      <td>2</td>\n",
       "      <td>Internet</td>\n",
       "      <td>RoundTrip</td>\n",
       "      <td>243</td>\n",
       "      <td>22</td>\n",
       "      <td>17</td>\n",
       "      <td>Wed</td>\n",
       "      <td>AKLDEL</td>\n",
       "      <td>India</td>\n",
       "      <td>1</td>\n",
       "      <td>1</td>\n",
       "      <td>0</td>\n",
       "      <td>5.52</td>\n",
       "      <td>0</td>\n",
       "    </tr>\n",
       "    <tr>\n",
       "      <th>4</th>\n",
       "      <td>1</td>\n",
       "      <td>Internet</td>\n",
       "      <td>RoundTrip</td>\n",
       "      <td>96</td>\n",
       "      <td>31</td>\n",
       "      <td>4</td>\n",
       "      <td>Sat</td>\n",
       "      <td>AKLDEL</td>\n",
       "      <td>New Zealand</td>\n",
       "      <td>0</td>\n",
       "      <td>0</td>\n",
       "      <td>1</td>\n",
       "      <td>5.52</td>\n",
       "      <td>0</td>\n",
       "    </tr>\n",
       "  </tbody>\n",
       "</table>\n",
       "</div>"
      ],
      "text/plain": [
       "   num_passengers sales_channel  trip_type  purchase_lead  length_of_stay  \\\n",
       "0               1      Internet  RoundTrip             21              12   \n",
       "1               2      Internet  RoundTrip            262              19   \n",
       "2               1      Internet  RoundTrip            112              20   \n",
       "3               2      Internet  RoundTrip            243              22   \n",
       "4               1      Internet  RoundTrip             96              31   \n",
       "\n",
       "   flight_hour flight_day   route booking_origin  wants_extra_baggage  \\\n",
       "0            6        Tue  AKLHGH      Australia                    0   \n",
       "1            7        Sat  AKLDEL    New Zealand                    1   \n",
       "2            3        Sat  AKLDEL    New Zealand                    0   \n",
       "3           17        Wed  AKLDEL          India                    1   \n",
       "4            4        Sat  AKLDEL    New Zealand                    0   \n",
       "\n",
       "   wants_preferred_seat  wants_in_flight_meals  flight_duration  \\\n",
       "0                     0                      0             7.21   \n",
       "1                     0                      0             5.52   \n",
       "2                     0                      0             5.52   \n",
       "3                     1                      0             5.52   \n",
       "4                     0                      1             5.52   \n",
       "\n",
       "   booking_complete  \n",
       "0                 1  \n",
       "1                 0  \n",
       "2                 0  \n",
       "3                 0  \n",
       "4                 0  "
      ]
     },
     "execution_count": 23,
     "metadata": {},
     "output_type": "execute_result"
    }
   ],
   "source": [
    "airline.head()"
   ]
  },
  {
   "cell_type": "code",
   "execution_count": 24,
   "id": "0247b31f",
   "metadata": {},
   "outputs": [
    {
     "data": {
      "image/png": "[encoded data removed]",
      "text/plain": [
       "<Figure size 864x360 with 1 Axes>"
      ]
     },
     "metadata": {
      "needs_background": "light"
     },
     "output_type": "display_data"
    }
   ],
   "source": [
    "plt.figure(figsize=(12,5))\n",
    "top_10_booking_origins = airline.booking_origin.value_counts().sort_values(ascending=False).head(10)\n",
    "top_10_booking_origins.plot(kind='bar',color='brown')\n",
    "plt.xticks(rotation='horizontal');"
   ]
  },
  {
   "cell_type": "code",
   "execution_count": 25,
   "id": "89b58e3c",
   "metadata": {},
   "outputs": [
    {
     "data": {
      "image/png": "[encoded data removed]",
      "text/plain": [
       "<Figure size 432x288 with 1 Axes>"
      ]
     },
     "metadata": {
      "needs_background": "light"
     },
     "output_type": "display_data"
    }
   ],
   "source": [
    "sns.countplot(x='sales_channel',hue='booking_complete',data=airline,palette='viridis')\n",
    "plt.show()"
   ]
  },
  {
   "cell_type": "code",
   "execution_count": 26,
   "id": "eb4ee852",
   "metadata": {},
   "outputs": [
    {
     "data": {
      "image/png": "[encoded data removed]",
      "text/plain": [
       "<Figure size 864x432 with 2 Axes>"
      ]
     },
     "metadata": {
      "needs_background": "light"
     },
     "output_type": "display_data"
    }
   ],
   "source": [
    "plt.figure(figsize=(12,6))\n",
    "sns.heatmap(airline.corr(),annot=True,cmap='viridis',linecolor='black',lw=2);"
   ]
  },
  {
   "cell_type": "code",
   "execution_count": 27,
   "id": "435e4f07",
   "metadata": {},
   "outputs": [
    {
     "data": {
      "image/png": "[encoded data removed]",
      "text/plain": [
       "<Figure size 576x360 with 1 Axes>"
      ]
     },
     "metadata": {
      "needs_background": "light"
     },
     "output_type": "display_data"
    }
   ],
   "source": [
    "plt.figure(figsize=(8,5))\n",
    "sns.countplot(x=\"flight_day\",hue=\"booking_complete\",data=airline)\n",
    "plt.show()"
   ]
  },
  {
   "cell_type": "code",
   "execution_count": 28,
   "id": "63e6f7cf",
   "metadata": {},
   "outputs": [
    {
     "data": {
      "text/html": [
       "<div>\n",
       "<style scoped>\n",
       "    .dataframe tbody tr th:only-of-type {\n",
       "        vertical-align: middle;\n",
       "    }\n",
       "\n",
       "    .dataframe tbody tr th {\n",
       "        vertical-align: top;\n",
       "    }\n",
       "\n",
       "    .dataframe thead th {\n",
       "        text-align: right;\n",
       "    }\n",
       "</style>\n",
       "<table border=\"1\" class=\"dataframe\">\n",
       "  <thead>\n",
       "    <tr style=\"text-align: right;\">\n",
       "      <th></th>\n",
       "      <th>num_passengers</th>\n",
       "      <th>sales_channel</th>\n",
       "      <th>trip_type</th>\n",
       "      <th>purchase_lead</th>\n",
       "      <th>length_of_stay</th>\n",
       "      <th>flight_hour</th>\n",
       "      <th>flight_day</th>\n",
       "      <th>route</th>\n",
       "      <th>booking_origin</th>\n",
       "      <th>wants_extra_baggage</th>\n",
       "      <th>wants_preferred_seat</th>\n",
       "      <th>wants_in_flight_meals</th>\n",
       "      <th>flight_duration</th>\n",
       "      <th>booking_complete</th>\n",
       "    </tr>\n",
       "  </thead>\n",
       "  <tbody>\n",
       "    <tr>\n",
       "      <th>0</th>\n",
       "      <td>1</td>\n",
       "      <td>Internet</td>\n",
       "      <td>RoundTrip</td>\n",
       "      <td>21</td>\n",
       "      <td>12</td>\n",
       "      <td>6</td>\n",
       "      <td>Tue</td>\n",
       "      <td>AKLHGH</td>\n",
       "      <td>Australia</td>\n",
       "      <td>0</td>\n",
       "      <td>0</td>\n",
       "      <td>0</td>\n",
       "      <td>7.21</td>\n",
       "      <td>1</td>\n",
       "    </tr>\n",
       "    <tr>\n",
       "      <th>1</th>\n",
       "      <td>2</td>\n",
       "      <td>Internet</td>\n",
       "      <td>RoundTrip</td>\n",
       "      <td>262</td>\n",
       "      <td>19</td>\n",
       "      <td>7</td>\n",
       "      <td>Sat</td>\n",
       "      <td>AKLDEL</td>\n",
       "      <td>New Zealand</td>\n",
       "      <td>1</td>\n",
       "      <td>0</td>\n",
       "      <td>0</td>\n",
       "      <td>5.52</td>\n",
       "      <td>0</td>\n",
       "    </tr>\n",
       "    <tr>\n",
       "      <th>2</th>\n",
       "      <td>1</td>\n",
       "      <td>Internet</td>\n",
       "      <td>RoundTrip</td>\n",
       "      <td>112</td>\n",
       "      <td>20</td>\n",
       "      <td>3</td>\n",
       "      <td>Sat</td>\n",
       "      <td>AKLDEL</td>\n",
       "      <td>New Zealand</td>\n",
       "      <td>0</td>\n",
       "      <td>0</td>\n",
       "      <td>0</td>\n",
       "      <td>5.52</td>\n",
       "      <td>0</td>\n",
       "    </tr>\n",
       "    <tr>\n",
       "      <th>3</th>\n",
       "      <td>2</td>\n",
       "      <td>Internet</td>\n",
       "      <td>RoundTrip</td>\n",
       "      <td>243</td>\n",
       "      <td>22</td>\n",
       "      <td>17</td>\n",
       "      <td>Wed</td>\n",
       "      <td>AKLDEL</td>\n",
       "      <td>India</td>\n",
       "      <td>1</td>\n",
       "      <td>1</td>\n",
       "      <td>0</td>\n",
       "      <td>5.52</td>\n",
       "      <td>0</td>\n",
       "    </tr>\n",
       "    <tr>\n",
       "      <th>4</th>\n",
       "      <td>1</td>\n",
       "      <td>Internet</td>\n",
       "      <td>RoundTrip</td>\n",
       "      <td>96</td>\n",
       "      <td>31</td>\n",
       "      <td>4</td>\n",
       "      <td>Sat</td>\n",
       "      <td>AKLDEL</td>\n",
       "      <td>New Zealand</td>\n",
       "      <td>0</td>\n",
       "      <td>0</td>\n",
       "      <td>1</td>\n",
       "      <td>5.52</td>\n",
       "      <td>0</td>\n",
       "    </tr>\n",
       "  </tbody>\n",
       "</table>\n",
       "</div>"
      ],
      "text/plain": [
       "   num_passengers sales_channel  trip_type  purchase_lead  length_of_stay  \\\n",
       "0               1      Internet  RoundTrip             21              12   \n",
       "1               2      Internet  RoundTrip            262              19   \n",
       "2               1      Internet  RoundTrip            112              20   \n",
       "3               2      Internet  RoundTrip            243              22   \n",
       "4               1      Internet  RoundTrip             96              31   \n",
       "\n",
       "   flight_hour flight_day   route booking_origin  wants_extra_baggage  \\\n",
       "0            6        Tue  AKLHGH      Australia                    0   \n",
       "1            7        Sat  AKLDEL    New Zealand                    1   \n",
       "2            3        Sat  AKLDEL    New Zealand                    0   \n",
       "3           17        Wed  AKLDEL          India                    1   \n",
       "4            4        Sat  AKLDEL    New Zealand                    0   \n",
       "\n",
       "   wants_preferred_seat  wants_in_flight_meals  flight_duration  \\\n",
       "0                     0                      0             7.21   \n",
       "1                     0                      0             5.52   \n",
       "2                     0                      0             5.52   \n",
       "3                     1                      0             5.52   \n",
       "4                     0                      1             5.52   \n",
       "\n",
       "   booking_complete  \n",
       "0                 1  \n",
       "1                 0  \n",
       "2                 0  \n",
       "3                 0  \n",
       "4                 0  "
      ]
     },
     "execution_count": 28,
     "metadata": {},
     "output_type": "execute_result"
    }
   ],
   "source": [
    "airline.head()"
   ]
  },
  {
   "cell_type": "code",
   "execution_count": 29,
   "id": "443cdc51",
   "metadata": {},
   "outputs": [],
   "source": [
    "from sklearn.preprocessing import LabelEncoder\n",
    "encoder = LabelEncoder()\n",
    "airline['sales_channel'] = encoder.fit_transform(airline['sales_channel'])\n",
    "airline['flight_day'] = encoder.fit_transform(airline['flight_day'])"
   ]
  },
  {
   "cell_type": "code",
   "execution_count": 30,
   "id": "bd91992c",
   "metadata": {},
   "outputs": [
    {
     "data": {
      "text/html": [
       "<div>\n",
       "<style scoped>\n",
       "    .dataframe tbody tr th:only-of-type {\n",
       "        vertical-align: middle;\n",
       "    }\n",
       "\n",
       "    .dataframe tbody tr th {\n",
       "        vertical-align: top;\n",
       "    }\n",
       "\n",
       "    .dataframe thead th {\n",
       "        text-align: right;\n",
       "    }\n",
       "</style>\n",
       "<table border=\"1\" class=\"dataframe\">\n",
       "  <thead>\n",
       "    <tr style=\"text-align: right;\">\n",
       "      <th></th>\n",
       "      <th>num_passengers</th>\n",
       "      <th>sales_channel</th>\n",
       "      <th>trip_type</th>\n",
       "      <th>purchase_lead</th>\n",
       "      <th>length_of_stay</th>\n",
       "      <th>flight_hour</th>\n",
       "      <th>flight_day</th>\n",
       "      <th>route</th>\n",
       "      <th>booking_origin</th>\n",
       "      <th>wants_extra_baggage</th>\n",
       "      <th>wants_preferred_seat</th>\n",
       "      <th>wants_in_flight_meals</th>\n",
       "      <th>flight_duration</th>\n",
       "      <th>booking_complete</th>\n",
       "    </tr>\n",
       "  </thead>\n",
       "  <tbody>\n",
       "    <tr>\n",
       "      <th>0</th>\n",
       "      <td>1</td>\n",
       "      <td>0</td>\n",
       "      <td>RoundTrip</td>\n",
       "      <td>21</td>\n",
       "      <td>12</td>\n",
       "      <td>6</td>\n",
       "      <td>5</td>\n",
       "      <td>AKLHGH</td>\n",
       "      <td>Australia</td>\n",
       "      <td>0</td>\n",
       "      <td>0</td>\n",
       "      <td>0</td>\n",
       "      <td>7.21</td>\n",
       "      <td>1</td>\n",
       "    </tr>\n",
       "    <tr>\n",
       "      <th>1</th>\n",
       "      <td>2</td>\n",
       "      <td>0</td>\n",
       "      <td>RoundTrip</td>\n",
       "      <td>262</td>\n",
       "      <td>19</td>\n",
       "      <td>7</td>\n",
       "      <td>2</td>\n",
       "      <td>AKLDEL</td>\n",
       "      <td>New Zealand</td>\n",
       "      <td>1</td>\n",
       "      <td>0</td>\n",
       "      <td>0</td>\n",
       "      <td>5.52</td>\n",
       "      <td>0</td>\n",
       "    </tr>\n",
       "    <tr>\n",
       "      <th>2</th>\n",
       "      <td>1</td>\n",
       "      <td>0</td>\n",
       "      <td>RoundTrip</td>\n",
       "      <td>112</td>\n",
       "      <td>20</td>\n",
       "      <td>3</td>\n",
       "      <td>2</td>\n",
       "      <td>AKLDEL</td>\n",
       "      <td>New Zealand</td>\n",
       "      <td>0</td>\n",
       "      <td>0</td>\n",
       "      <td>0</td>\n",
       "      <td>5.52</td>\n",
       "      <td>0</td>\n",
       "    </tr>\n",
       "    <tr>\n",
       "      <th>3</th>\n",
       "      <td>2</td>\n",
       "      <td>0</td>\n",
       "      <td>RoundTrip</td>\n",
       "      <td>243</td>\n",
       "      <td>22</td>\n",
       "      <td>17</td>\n",
       "      <td>6</td>\n",
       "      <td>AKLDEL</td>\n",
       "      <td>India</td>\n",
       "      <td>1</td>\n",
       "      <td>1</td>\n",
       "      <td>0</td>\n",
       "      <td>5.52</td>\n",
       "      <td>0</td>\n",
       "    </tr>\n",
       "    <tr>\n",
       "      <th>4</th>\n",
       "      <td>1</td>\n",
       "      <td>0</td>\n",
       "      <td>RoundTrip</td>\n",
       "      <td>96</td>\n",
       "      <td>31</td>\n",
       "      <td>4</td>\n",
       "      <td>2</td>\n",
       "      <td>AKLDEL</td>\n",
       "      <td>New Zealand</td>\n",
       "      <td>0</td>\n",
       "      <td>0</td>\n",
       "      <td>1</td>\n",
       "      <td>5.52</td>\n",
       "      <td>0</td>\n",
       "    </tr>\n",
       "  </tbody>\n",
       "</table>\n",
       "</div>"
      ],
      "text/plain": [
       "   num_passengers  sales_channel  trip_type  purchase_lead  length_of_stay  \\\n",
       "0               1              0  RoundTrip             21              12   \n",
       "1               2              0  RoundTrip            262              19   \n",
       "2               1              0  RoundTrip            112              20   \n",
       "3               2              0  RoundTrip            243              22   \n",
       "4               1              0  RoundTrip             96              31   \n",
       "\n",
       "   flight_hour  flight_day   route booking_origin  wants_extra_baggage  \\\n",
       "0            6           5  AKLHGH      Australia                    0   \n",
       "1            7           2  AKLDEL    New Zealand                    1   \n",
       "2            3           2  AKLDEL    New Zealand                    0   \n",
       "3           17           6  AKLDEL          India                    1   \n",
       "4            4           2  AKLDEL    New Zealand                    0   \n",
       "\n",
       "   wants_preferred_seat  wants_in_flight_meals  flight_duration  \\\n",
       "0                     0                      0             7.21   \n",
       "1                     0                      0             5.52   \n",
       "2                     0                      0             5.52   \n",
       "3                     1                      0             5.52   \n",
       "4                     0                      1             5.52   \n",
       "\n",
       "   booking_complete  \n",
       "0                 1  \n",
       "1                 0  \n",
       "2                 0  \n",
       "3                 0  \n",
       "4                 0  "
      ]
     },
     "execution_count": 30,
     "metadata": {},
     "output_type": "execute_result"
    }
   ],
   "source": [
    "airline.head()"
   ]
  },
  {
   "cell_type": "code",
   "execution_count": 31,
   "id": "7291e4a1",
   "metadata": {},
   "outputs": [],
   "source": [
    "airline = airline.drop(columns=['route'])"
   ]
  },
  {
   "cell_type": "code",
   "execution_count": 32,
   "id": "ace1d404",
   "metadata": {},
   "outputs": [],
   "source": [
    "X = airline.drop(columns=\"booking_complete\")\n",
    "y = airline[\"booking_complete\"]"
   ]
  },
  {
   "cell_type": "code",
   "execution_count": 33,
   "id": "452b2dc9",
   "metadata": {},
   "outputs": [],
   "source": [
    "from sklearn.model_selection import train_test_split,cross_val_score\n",
    "from sklearn.metrics import accuracy_score,confusion_matrix\n",
    "X_train,X_test,y_train,y_test = train_test_split(X,y,test_size=0.2,random_state=42)"
   ]
  },
  {
   "cell_type": "code",
   "execution_count": 34,
   "id": "ca890714",
   "metadata": {},
   "outputs": [
    {
     "data": {
      "text/plain": [
       "((39426, 12), (9857, 12))"
      ]
     },
     "execution_count": 34,
     "metadata": {},
     "output_type": "execute_result"
    }
   ],
   "source": [
    "X_train.shape,X_test.shape"
   ]
  },
  {
   "cell_type": "code",
   "execution_count": 35,
   "id": "ce39bac3",
   "metadata": {},
   "outputs": [
    {
     "data": {
      "text/html": [
       "<div>\n",
       "<style scoped>\n",
       "    .dataframe tbody tr th:only-of-type {\n",
       "        vertical-align: middle;\n",
       "    }\n",
       "\n",
       "    .dataframe tbody tr th {\n",
       "        vertical-align: top;\n",
       "    }\n",
       "\n",
       "    .dataframe thead th {\n",
       "        text-align: right;\n",
       "    }\n",
       "</style>\n",
       "<table border=\"1\" class=\"dataframe\">\n",
       "  <thead>\n",
       "    <tr style=\"text-align: right;\">\n",
       "      <th></th>\n",
       "      <th>num_passengers</th>\n",
       "      <th>sales_channel</th>\n",
       "      <th>trip_type</th>\n",
       "      <th>purchase_lead</th>\n",
       "      <th>length_of_stay</th>\n",
       "      <th>flight_hour</th>\n",
       "      <th>flight_day</th>\n",
       "      <th>booking_origin</th>\n",
       "      <th>wants_extra_baggage</th>\n",
       "      <th>wants_preferred_seat</th>\n",
       "      <th>wants_in_flight_meals</th>\n",
       "      <th>flight_duration</th>\n",
       "    </tr>\n",
       "  </thead>\n",
       "  <tbody>\n",
       "    <tr>\n",
       "      <th>24810</th>\n",
       "      <td>1</td>\n",
       "      <td>0</td>\n",
       "      <td>RoundTrip</td>\n",
       "      <td>8</td>\n",
       "      <td>21</td>\n",
       "      <td>10</td>\n",
       "      <td>4</td>\n",
       "      <td>Australia</td>\n",
       "      <td>1</td>\n",
       "      <td>0</td>\n",
       "      <td>1</td>\n",
       "      <td>8.58</td>\n",
       "    </tr>\n",
       "    <tr>\n",
       "      <th>15806</th>\n",
       "      <td>2</td>\n",
       "      <td>0</td>\n",
       "      <td>RoundTrip</td>\n",
       "      <td>380</td>\n",
       "      <td>42</td>\n",
       "      <td>11</td>\n",
       "      <td>4</td>\n",
       "      <td>Australia</td>\n",
       "      <td>0</td>\n",
       "      <td>0</td>\n",
       "      <td>0</td>\n",
       "      <td>8.83</td>\n",
       "    </tr>\n",
       "    <tr>\n",
       "      <th>41265</th>\n",
       "      <td>2</td>\n",
       "      <td>0</td>\n",
       "      <td>RoundTrip</td>\n",
       "      <td>20</td>\n",
       "      <td>5</td>\n",
       "      <td>23</td>\n",
       "      <td>1</td>\n",
       "      <td>Singapore</td>\n",
       "      <td>1</td>\n",
       "      <td>0</td>\n",
       "      <td>0</td>\n",
       "      <td>5.62</td>\n",
       "    </tr>\n",
       "    <tr>\n",
       "      <th>8541</th>\n",
       "      <td>1</td>\n",
       "      <td>0</td>\n",
       "      <td>RoundTrip</td>\n",
       "      <td>208</td>\n",
       "      <td>32</td>\n",
       "      <td>3</td>\n",
       "      <td>6</td>\n",
       "      <td>Australia</td>\n",
       "      <td>1</td>\n",
       "      <td>1</td>\n",
       "      <td>1</td>\n",
       "      <td>5.52</td>\n",
       "    </tr>\n",
       "    <tr>\n",
       "      <th>6006</th>\n",
       "      <td>1</td>\n",
       "      <td>0</td>\n",
       "      <td>RoundTrip</td>\n",
       "      <td>66</td>\n",
       "      <td>40</td>\n",
       "      <td>10</td>\n",
       "      <td>6</td>\n",
       "      <td>Australia</td>\n",
       "      <td>1</td>\n",
       "      <td>1</td>\n",
       "      <td>1</td>\n",
       "      <td>8.83</td>\n",
       "    </tr>\n",
       "  </tbody>\n",
       "</table>\n",
       "</div>"
      ],
      "text/plain": [
       "       num_passengers  sales_channel  trip_type  purchase_lead  \\\n",
       "24810               1              0  RoundTrip              8   \n",
       "15806               2              0  RoundTrip            380   \n",
       "41265               2              0  RoundTrip             20   \n",
       "8541                1              0  RoundTrip            208   \n",
       "6006                1              0  RoundTrip             66   \n",
       "\n",
       "       length_of_stay  flight_hour  flight_day booking_origin  \\\n",
       "24810              21           10           4      Australia   \n",
       "15806              42           11           4      Australia   \n",
       "41265               5           23           1      Singapore   \n",
       "8541               32            3           6      Australia   \n",
       "6006               40           10           6      Australia   \n",
       "\n",
       "       wants_extra_baggage  wants_preferred_seat  wants_in_flight_meals  \\\n",
       "24810                    1                     0                      1   \n",
       "15806                    0                     0                      0   \n",
       "41265                    1                     0                      0   \n",
       "8541                     1                     1                      1   \n",
       "6006                     1                     1                      1   \n",
       "\n",
       "       flight_duration  \n",
       "24810             8.58  \n",
       "15806             8.83  \n",
       "41265             5.62  \n",
       "8541              5.52  \n",
       "6006              8.83  "
      ]
     },
     "execution_count": 35,
     "metadata": {},
     "output_type": "execute_result"
    }
   ],
   "source": [
    "X_train.head()"
   ]
  },
  {
   "cell_type": "code",
   "execution_count": 36,
   "id": "282e3b4e",
   "metadata": {},
   "outputs": [],
   "source": [
    "from sklearn.linear_model import LogisticRegression\n",
    "from sklearn.tree import DecisionTreeClassifier\n",
    "from sklearn.ensemble import RandomForestClassifier\n",
    "from sklearn.preprocessing import OneHotEncoder,StandardScaler,OrdinalEncoder\n",
    "from sklearn.compose import ColumnTransformer\n",
    "from sklearn.pipeline import Pipeline\n",
    "\n",
    "ohe_encoding = ColumnTransformer(transformers=[\n",
    "    ('ohe',OneHotEncoder(drop='first',sparse=False,handle_unknown='ignore'),[2,7])\n",
    "],remainder='passthrough')\n",
    "\n",
    "algo = LogisticRegression()"
   ]
  },
  {
   "cell_type": "code",
   "execution_count": 37,
   "id": "3f9be1ff",
   "metadata": {},
   "outputs": [],
   "source": [
    "pipe = Pipeline([\n",
    "    ('step1',ohe_encoding),\n",
    "    ('step3',algo)\n",
    "])"
   ]
  },
  {
   "cell_type": "code",
   "execution_count": 38,
   "id": "b4e0ad50",
   "metadata": {},
   "outputs": [
    {
     "data": {
      "text/html": [
       "<style>#sk-container-id-1 {color: black;background-color: white;}#sk-container-id-1 pre{padding: 0;}#sk-container-id-1 div.sk-toggleable {background-color: white;}#sk-container-id-1 label.sk-toggleable__label {cursor: pointer;display: block;width: 100%;margin-bottom: 0;padding: 0.3em;box-sizing: border-box;text-align: center;}#sk-container-id-1 label.sk-toggleable__label-arrow:before {content: \"▸\";float: left;margin-right: 0.25em;color: #696969;}#sk-container-id-1 label.sk-toggleable__label-arrow:hover:before {color: black;}#sk-container-id-1 div.sk-estimator:hover label.sk-toggleable__label-arrow:before {color: black;}#sk-container-id-1 div.sk-toggleable__content {max-height: 0;max-width: 0;overflow: hidden;text-align: left;background-color: #f0f8ff;}#sk-container-id-1 div.sk-toggleable__content pre {margin: 0.2em;color: black;border-radius: 0.25em;background-color: #f0f8ff;}#sk-container-id-1 input.sk-toggleable__control:checked~div.sk-toggleable__content {max-height: 200px;max-width: 100%;overflow: auto;}#sk-container-id-1 input.sk-toggleable__control:checked~label.sk-toggleable__label-arrow:before {content: \"▾\";}#sk-container-id-1 div.sk-estimator input.sk-toggleable__control:checked~label.sk-toggleable__label {background-color: #d4ebff;}#sk-container-id-1 div.sk-label input.sk-toggleable__control:checked~label.sk-toggleable__label {background-color: #d4ebff;}#sk-container-id-1 input.sk-hidden--visually {border: 0;clip: rect(1px 1px 1px 1px);clip: rect(1px, 1px, 1px, 1px);height: 1px;margin: -1px;overflow: hidden;padding: 0;position: absolute;width: 1px;}#sk-container-id-1 div.sk-estimator {font-family: monospace;background-color: #f0f8ff;border: 1px dotted black;border-radius: 0.25em;box-sizing: border-box;margin-bottom: 0.5em;}#sk-container-id-1 div.sk-estimator:hover {background-color: #d4ebff;}#sk-container-id-1 div.sk-parallel-item::after {content: \"\";width: 100%;border-bottom: 1px solid gray;flex-grow: 1;}#sk-container-id-1 div.sk-label:hover label.sk-toggleable__label {background-color: #d4ebff;}#sk-container-id-1 div.sk-serial::before {content: \"\";position: absolute;border-left: 1px solid gray;box-sizing: border-box;top: 0;bottom: 0;left: 50%;z-index: 0;}#sk-container-id-1 div.sk-serial {display: flex;flex-direction: column;align-items: center;background-color: white;padding-right: 0.2em;padding-left: 0.2em;position: relative;}#sk-container-id-1 div.sk-item {position: relative;z-index: 1;}#sk-container-id-1 div.sk-parallel {display: flex;align-items: stretch;justify-content: center;background-color: white;position: relative;}#sk-container-id-1 div.sk-item::before, #sk-container-id-1 div.sk-parallel-item::before {content: \"\";position: absolute;border-left: 1px solid gray;box-sizing: border-box;top: 0;bottom: 0;left: 50%;z-index: -1;}#sk-container-id-1 div.sk-parallel-item {display: flex;flex-direction: column;z-index: 1;position: relative;background-color: white;}#sk-container-id-1 div.sk-parallel-item:first-child::after {align-self: flex-end;width: 50%;}#sk-container-id-1 div.sk-parallel-item:last-child::after {align-self: flex-start;width: 50%;}#sk-container-id-1 div.sk-parallel-item:only-child::after {width: 0;}#sk-container-id-1 div.sk-dashed-wrapped {border: 1px dashed gray;margin: 0 0.4em 0.5em 0.4em;box-sizing: border-box;padding-bottom: 0.4em;background-color: white;}#sk-container-id-1 div.sk-label label {font-family: monospace;font-weight: bold;display: inline-block;line-height: 1.2em;}#sk-container-id-1 div.sk-label-container {text-align: center;}#sk-container-id-1 div.sk-container {/* jupyter's `normalize.less` sets `[hidden] { display: none; }` but bootstrap.min.css set `[hidden] { display: none !important; }` so we also need the `!important` here to be able to override the default hidden behavior on the sphinx rendered scikit-learn.org. See: https://github.com/scikit-learn/scikit-learn/issues/21755 */display: inline-block !important;position: relative;}#sk-container-id-1 div.sk-text-repr-fallback {display: none;}</style><div id=\"sk-container-id-1\" class=\"sk-top-container\"><div class=\"sk-text-repr-fallback\"><pre>Pipeline(steps=[(&#x27;step1&#x27;,\n",
       "                 ColumnTransformer(remainder=&#x27;passthrough&#x27;,\n",
       "                                   transformers=[(&#x27;ohe&#x27;,\n",
       "                                                  OneHotEncoder(drop=&#x27;first&#x27;,\n",
       "                                                                handle_unknown=&#x27;ignore&#x27;,\n",
       "                                                                sparse=False),\n",
       "                                                  [2, 7])])),\n",
       "                (&#x27;step3&#x27;, LogisticRegression())])</pre><b>In a Jupyter environment, please rerun this cell to show the HTML representation or trust the notebook. <br />On GitHub, the HTML representation is unable to render, please try loading this page with nbviewer.org.</b></div><div class=\"sk-container\" hidden><div class=\"sk-item sk-dashed-wrapped\"><div class=\"sk-label-container\"><div class=\"sk-label sk-toggleable\"><input class=\"sk-toggleable__control sk-hidden--visually\" id=\"sk-estimator-id-1\" type=\"checkbox\" ><label for=\"sk-estimator-id-1\" class=\"sk-toggleable__label sk-toggleable__label-arrow\">Pipeline</label><div class=\"sk-toggleable__content\"><pre>Pipeline(steps=[(&#x27;step1&#x27;,\n",
       "                 ColumnTransformer(remainder=&#x27;passthrough&#x27;,\n",
       "                                   transformers=[(&#x27;ohe&#x27;,\n",
       "                                                  OneHotEncoder(drop=&#x27;first&#x27;,\n",
       "                                                                handle_unknown=&#x27;ignore&#x27;,\n",
       "                                                                sparse=False),\n",
       "                                                  [2, 7])])),\n",
       "                (&#x27;step3&#x27;, LogisticRegression())])</pre></div></div></div><div class=\"sk-serial\"><div class=\"sk-item sk-dashed-wrapped\"><div class=\"sk-label-container\"><div class=\"sk-label sk-toggleable\"><input class=\"sk-toggleable__control sk-hidden--visually\" id=\"sk-estimator-id-2\" type=\"checkbox\" ><label for=\"sk-estimator-id-2\" class=\"sk-toggleable__label sk-toggleable__label-arrow\">step1: ColumnTransformer</label><div class=\"sk-toggleable__content\"><pre>ColumnTransformer(remainder=&#x27;passthrough&#x27;,\n",
       "                  transformers=[(&#x27;ohe&#x27;,\n",
       "                                 OneHotEncoder(drop=&#x27;first&#x27;,\n",
       "                                               handle_unknown=&#x27;ignore&#x27;,\n",
       "                                               sparse=False),\n",
       "                                 [2, 7])])</pre></div></div></div><div class=\"sk-parallel\"><div class=\"sk-parallel-item\"><div class=\"sk-item\"><div class=\"sk-label-container\"><div class=\"sk-label sk-toggleable\"><input class=\"sk-toggleable__control sk-hidden--visually\" id=\"sk-estimator-id-3\" type=\"checkbox\" ><label for=\"sk-estimator-id-3\" class=\"sk-toggleable__label sk-toggleable__label-arrow\">ohe</label><div class=\"sk-toggleable__content\"><pre>[2, 7]</pre></div></div></div><div class=\"sk-serial\"><div class=\"sk-item\"><div class=\"sk-estimator sk-toggleable\"><input class=\"sk-toggleable__control sk-hidden--visually\" id=\"sk-estimator-id-4\" type=\"checkbox\" ><label for=\"sk-estimator-id-4\" class=\"sk-toggleable__label sk-toggleable__label-arrow\">OneHotEncoder</label><div class=\"sk-toggleable__content\"><pre>OneHotEncoder(drop=&#x27;first&#x27;, handle_unknown=&#x27;ignore&#x27;, sparse=False)</pre></div></div></div></div></div></div><div class=\"sk-parallel-item\"><div class=\"sk-item\"><div class=\"sk-label-container\"><div class=\"sk-label sk-toggleable\"><input class=\"sk-toggleable__control sk-hidden--visually\" id=\"sk-estimator-id-5\" type=\"checkbox\" ><label for=\"sk-estimator-id-5\" class=\"sk-toggleable__label sk-toggleable__label-arrow\">remainder</label><div class=\"sk-toggleable__content\"><pre>[&#x27;num_passengers&#x27;, &#x27;sales_channel&#x27;, &#x27;purchase_lead&#x27;, &#x27;length_of_stay&#x27;, &#x27;flight_hour&#x27;, &#x27;flight_day&#x27;, &#x27;wants_extra_baggage&#x27;, &#x27;wants_preferred_seat&#x27;, &#x27;wants_in_flight_meals&#x27;, &#x27;flight_duration&#x27;]</pre></div></div></div><div class=\"sk-serial\"><div class=\"sk-item\"><div class=\"sk-estimator sk-toggleable\"><input class=\"sk-toggleable__control sk-hidden--visually\" id=\"sk-estimator-id-6\" type=\"checkbox\" ><label for=\"sk-estimator-id-6\" class=\"sk-toggleable__label sk-toggleable__label-arrow\">passthrough</label><div class=\"sk-toggleable__content\"><pre>passthrough</pre></div></div></div></div></div></div></div></div><div class=\"sk-item\"><div class=\"sk-estimator sk-toggleable\"><input class=\"sk-toggleable__control sk-hidden--visually\" id=\"sk-estimator-id-7\" type=\"checkbox\" ><label for=\"sk-estimator-id-7\" class=\"sk-toggleable__label sk-toggleable__label-arrow\">LogisticRegression</label><div class=\"sk-toggleable__content\"><pre>LogisticRegression()</pre></div></div></div></div></div></div></div>"
      ],
      "text/plain": [
       "Pipeline(steps=[('step1',\n",
       "                 ColumnTransformer(remainder='passthrough',\n",
       "                                   transformers=[('ohe',\n",
       "                                                  OneHotEncoder(drop='first',\n",
       "                                                                handle_unknown='ignore',\n",
       "                                                                sparse=False),\n",
       "                                                  [2, 7])])),\n",
       "                ('step3', LogisticRegression())])"
      ]
     },
     "execution_count": 38,
     "metadata": {},
     "output_type": "execute_result"
    }
   ],
   "source": [
    "pipe.fit(X_train,y_train)"
   ]
  },
  {
   "cell_type": "code",
   "execution_count": 39,
   "id": "71d4a4ab",
   "metadata": {},
   "outputs": [],
   "source": [
    "y_pred = pipe.predict(X_test)\n",
    "accuracy = accuracy_score(y_test,y_pred)"
   ]
  },
  {
   "cell_type": "code",
   "execution_count": 40,
   "id": "cd9f59ee",
   "metadata": {},
   "outputs": [
    {
     "data": {
      "text/plain": [
       "85.61428426498935"
      ]
     },
     "execution_count": 40,
     "metadata": {},
     "output_type": "execute_result"
    }
   ],
   "source": [
    "accuracy*100"
   ]
  },
  {
   "cell_type": "code",
   "execution_count": 41,
   "id": "98bf5a75",
   "metadata": {},
   "outputs": [],
   "source": [
    "cf = confusion_matrix(y_test,y_pred)"
   ]
  },
  {
   "cell_type": "code",
   "execution_count": 42,
   "id": "daf6757b",
   "metadata": {},
   "outputs": [
    {
     "data": {
      "image/png": "[encoded data removed]",
      "text/plain": [
       "<Figure size 432x288 with 2 Axes>"
      ]
     },
     "metadata": {
      "needs_background": "light"
     },
     "output_type": "display_data"
    }
   ],
   "source": [
    "sns.heatmap(cf,annot=True,fmt=\".0f\",cmap='viridis',lw=3,linecolor='black')\n",
    "plt.xlabel(\"Actual Values\")\n",
    "plt.ylabel(\"Predicted Values\")\n",
    "plt.show()"
   ]
  },
  {
   "cell_type": "code",
   "execution_count": 43,
   "id": "c0003071",
   "metadata": {},
   "outputs": [],
   "source": [
    "train_pred = pipe.predict(X_train)\n",
    "acc_score_train = accuracy_score(y_train,train_pred)"
   ]
  },
  {
   "cell_type": "code",
   "execution_count": 44,
   "id": "67d56559",
   "metadata": {},
   "outputs": [
    {
     "data": {
      "text/plain": [
       "84.84248972759093"
      ]
     },
     "execution_count": 44,
     "metadata": {},
     "output_type": "execute_result"
    }
   ],
   "source": [
    "acc_score_train*100"
   ]
  },
  {
   "cell_type": "code",
   "execution_count": 46,
   "id": "84ab8eb8",
   "metadata": {},
   "outputs": [],
   "source": [
    "import pickle"
   ]
  },
  {
   "cell_type": "code",
   "execution_count": 47,
   "id": "a457deaa",
   "metadata": {},
   "outputs": [],
   "source": [
    "pickle.dump(pipe,open('pipe.pkl','wb'))"
   ]
  },
  {
   "cell_type": "code",
   "execution_count": 48,
   "id": "2e36d719",
   "metadata": {},
   "outputs": [],
   "source": [
    "pickled_model = pickle.load(open('pipe.pkl','rb'))"
   ]
  },
  {
   "cell_type": "code",
   "execution_count": null,
   "id": "a8dcdeb1",
   "metadata": {},
   "outputs": [],
   "source": []
  }
 ],
 "metadata": {
  "kernelspec": {
   "display_name": "Python 3 (ipykernel)",
   "language": "python",
   "name": "python3"
  },
  "language_info": {
   "codemirror_mode": {
    "name": "ipython",
    "version": 3
   },
   "file_extension": ".py",
   "mimetype": "text/x-python",
   "name": "python",
   "nbconvert_exporter": "python",
   "pygments_lexer": "ipython3",
   "version": "3.10.0"
  }
 },
 "nbformat": 4,
 "nbformat_minor": 5
}
